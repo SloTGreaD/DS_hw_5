{
  "nbformat": 4,
  "nbformat_minor": 0,
  "metadata": {
    "colab": {
      "provenance": []
    },
    "kernelspec": {
      "name": "python3",
      "display_name": "Python 3"
    },
    "language_info": {
      "name": "python"
    }
  },
  "cells": [
    {
      "cell_type": "code",
      "source": [
        "from google.colab import drive, files\n",
        "import pandas as pd\n",
        "import os\n",
        "\n",
        "drive.mount('/content/drive')\n",
        "\n",
        "def load_data_from_folder(folder_path, activity_label):\n",
        "    data_list = []\n",
        "    for file_name in os.listdir(folder_path):\n",
        "        if file_name.endswith('.csv'):\n",
        "            file_path = os.path.join(folder_path, file_name)\n",
        "            df = pd.read_csv(file_path)\n",
        "            df['activity'] = activity_label\n",
        "            data_list.append(df)\n",
        "    return pd.concat(data_list, ignore_index=True)\n",
        "\n",
        "data_path = '/content/drive/MyDrive/data'\n",
        "folders = ['idle', 'running', 'stairs', 'walking']\n",
        "labels = ['idle', 'running', 'stairs', 'walking']\n",
        "\n",
        "data = pd.concat([load_data_from_folder(os.path.join(data_path, folder), label) for folder, label in zip(folders, labels)], ignore_index=True)\n",
        "\n",
        "print(data.head())\n",
        "\n",
        "data.to_csv('/content/formed_dataset.csv', index=False)\n",
        "\n",
        "files.download('/content/formed_dataset.csv')\n",
        "\n"
      ],
      "metadata": {
        "colab": {
          "base_uri": "https://localhost:8080/",
          "height": 162
        },
        "id": "XUkBzc5epY6z",
        "outputId": "603c72b4-7581-49ef-e93e-0e251495574b"
      },
      "execution_count": 9,
      "outputs": [
        {
          "output_type": "stream",
          "name": "stdout",
          "text": [
            "Drive already mounted at /content/drive; to attempt to forcibly remount, call drive.mount(\"/content/drive\", force_remount=True).\n",
            "   accelerometer_X  accelerometer_Y  accelerometer_Z activity\n",
            "0        -0.081403         0.196325         9.782708     idle\n",
            "1        -0.124498         0.225055         9.768343     idle\n",
            "2        -0.100556         0.201113         9.763555     idle\n",
            "3        -0.124498         0.215478         9.773131     idle\n",
            "4        -0.119710         0.220267         9.744401     idle\n",
            "Index(['accelerometer_X', 'accelerometer_Y', 'accelerometer_Z', 'activity'], dtype='object')\n"
          ]
        },
        {
          "output_type": "display_data",
          "data": {
            "text/plain": [
              "<IPython.core.display.Javascript object>"
            ],
            "application/javascript": [
              "\n",
              "    async function download(id, filename, size) {\n",
              "      if (!google.colab.kernel.accessAllowed) {\n",
              "        return;\n",
              "      }\n",
              "      const div = document.createElement('div');\n",
              "      const label = document.createElement('label');\n",
              "      label.textContent = `Downloading \"${filename}\": `;\n",
              "      div.appendChild(label);\n",
              "      const progress = document.createElement('progress');\n",
              "      progress.max = size;\n",
              "      div.appendChild(progress);\n",
              "      document.body.appendChild(div);\n",
              "\n",
              "      const buffers = [];\n",
              "      let downloaded = 0;\n",
              "\n",
              "      const channel = await google.colab.kernel.comms.open(id);\n",
              "      // Send a message to notify the kernel that we're ready.\n",
              "      channel.send({})\n",
              "\n",
              "      for await (const message of channel.messages) {\n",
              "        // Send a message to notify the kernel that we're ready.\n",
              "        channel.send({})\n",
              "        if (message.buffers) {\n",
              "          for (const buffer of message.buffers) {\n",
              "            buffers.push(buffer);\n",
              "            downloaded += buffer.byteLength;\n",
              "            progress.value = downloaded;\n",
              "          }\n",
              "        }\n",
              "      }\n",
              "      const blob = new Blob(buffers, {type: 'application/binary'});\n",
              "      const a = document.createElement('a');\n",
              "      a.href = window.URL.createObjectURL(blob);\n",
              "      a.download = filename;\n",
              "      div.appendChild(a);\n",
              "      a.click();\n",
              "      div.remove();\n",
              "    }\n",
              "  "
            ]
          },
          "metadata": {}
        },
        {
          "output_type": "display_data",
          "data": {
            "text/plain": [
              "<IPython.core.display.Javascript object>"
            ],
            "application/javascript": [
              "download(\"download_7f3987aa-e941-440a-af94-4ea3998fb405\", \"formed_dataset.csv\", 7806583)"
            ]
          },
          "metadata": {}
        }
      ]
    },
    {
      "cell_type": "code",
      "source": [
        "import numpy as np\n",
        "from sklearn.model_selection import train_test_split\n",
        "from sklearn.preprocessing import StandardScaler\n",
        "from sklearn.svm import SVC\n",
        "from sklearn.ensemble import RandomForestClassifier\n",
        "from sklearn.metrics import classification_report\n",
        "\n",
        "data = pd.read_csv('/content/formed_dataset.csv')\n",
        "\n",
        "print(data.columns)\n",
        "\n",
        "window_size = 50\n",
        "\n",
        "for axis in ['accelerometer_X', 'accelerometer_Y', 'accelerometer_Z']:\n",
        "    data[f'mean_{axis}'] = data[axis].rolling(window=window_size).mean()\n",
        "    data[f'std_{axis}'] = data[axis].rolling(window=window_size).std()\n",
        "    data[f'max_{axis}'] = data[axis].rolling(window=window_size).max()\n",
        "    data[f'min_{axis}'] = data[axis].rolling(window=window_size).min()\n",
        "\n",
        "data.dropna(inplace=True)\n",
        "\n",
        "features = [f'mean_{axis}' for axis in ['accelerometer_X', 'accelerometer_Y', 'accelerometer_Z']] + \\\n",
        "           [f'std_{axis}' for axis in ['accelerometer_X', 'accelerometer_Y', 'accelerometer_Z']] + \\\n",
        "           [f'max_{axis}' for axis in ['accelerometer_X', 'accelerometer_Y', 'accelerometer_Z']] + \\\n",
        "           [f'min_{axis}' for axis in ['accelerometer_X', 'accelerometer_Y', 'accelerometer_Z']]\n",
        "X = data[features]\n",
        "y = data['activity']\n",
        "\n",
        "X_train, X_test, y_train, y_test = train_test_split(X, y, test_size=0.3, random_state=42)\n",
        "\n",
        "scaler = StandardScaler()\n",
        "X_train_scaled = scaler.fit_transform(X_train)\n",
        "X_test_scaled = scaler.transform(X_test)\n",
        "\n",
        "svm_model = SVC()\n",
        "svm_model.fit(X_train_scaled, y_train)\n",
        "y_pred_svm = svm_model.predict(X_test_scaled)\n",
        "\n",
        "print(\"Classification Report for SVM:\")\n",
        "print(classification_report(y_test, y_pred_svm))\n",
        "\n",
        "rf_model = RandomForestClassifier()\n",
        "rf_model.fit(X_train_scaled, y_train)\n",
        "y_pred_rf = rf_model.predict(X_test_scaled)\n",
        "\n",
        "print(\"Classification Report for Random Forest:\")\n",
        "print(classification_report(y_test, y_pred_rf))\n"
      ],
      "metadata": {
        "colab": {
          "base_uri": "https://localhost:8080/"
        },
        "id": "VHKgYa9ssrBj",
        "outputId": "e60fa240-3546-46fe-9ba7-1f1cb4aee004"
      },
      "execution_count": 10,
      "outputs": [
        {
          "output_type": "stream",
          "name": "stdout",
          "text": [
            "Index(['accelerometer_X', 'accelerometer_Y', 'accelerometer_Z', 'activity'], dtype='object')\n",
            "Classification Report for SVM:\n",
            "              precision    recall  f1-score   support\n",
            "\n",
            "        idle       1.00      1.00      1.00      9291\n",
            "     running       1.00      1.00      1.00     30609\n",
            "      stairs       0.97      0.93      0.95      1500\n",
            "     walking       0.99      1.00      1.00     16744\n",
            "\n",
            "    accuracy                           1.00     58144\n",
            "   macro avg       0.99      0.98      0.99     58144\n",
            "weighted avg       1.00      1.00      1.00     58144\n",
            "\n",
            "Classification Report for Random Forest:\n",
            "              precision    recall  f1-score   support\n",
            "\n",
            "        idle       1.00      1.00      1.00      9291\n",
            "     running       1.00      1.00      1.00     30609\n",
            "      stairs       1.00      1.00      1.00      1500\n",
            "     walking       1.00      1.00      1.00     16744\n",
            "\n",
            "    accuracy                           1.00     58144\n",
            "   macro avg       1.00      1.00      1.00     58144\n",
            "weighted avg       1.00      1.00      1.00     58144\n",
            "\n"
          ]
        }
      ]
    }
  ]
}